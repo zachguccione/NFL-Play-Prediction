{
 "cells": [
  {
   "cell_type": "markdown",
   "metadata": {
    "id": "2azCR9Rdm-hF"
   },
   "source": [
    "\n",
    "\n",
    "---\n",
    "\n",
    "\n",
    "# **Goal of this Model**\n",
    "\n",
    "\n",
    "---\n",
    "\n",
    "\n",
    "\n",
    "With this model I will solely focus on using pre-snap movement on the offensive side of the ball to determine one of four outcomes:\n",
    "\n",
    "\n",
    "*   Run middle\n",
    "*   Run left\n",
    "*   Run right\n",
    "*   Pass\n",
    "\n",
    "\n",
    "</br>\n",
    "\n",
    "I will be using a Long Short-Term Neural Network in order to achieve this.\n",
    "\n",
    "</br>\n",
    "\n"
   ]
  },
  {
   "cell_type": "markdown",
   "metadata": {
    "id": "yUJ3jfN1z8oV"
   },
   "source": [
    "\n",
    "\n",
    "---\n",
    "\n",
    "\n",
    "# **Code**\n",
    "\n",
    "---"
   ]
  },
  {
   "cell_type": "markdown",
   "metadata": {
    "id": "HiQU23rKU6KL"
   },
   "source": [
    "**Creating a 2-D Model**\n",
    "\n",
    "---\n",
    "\n"
   ]
  },
  {
   "cell_type": "code",
   "execution_count": 15,
   "metadata": {
    "id": "J6oNbnla6vwN"
   },
   "outputs": [],
   "source": [
    "import numpy as np\n",
    "import pandas as pd\n",
    "from sklearn.model_selection import train_test_split"
   ]
  },
  {
   "cell_type": "code",
   "execution_count": 16,
   "metadata": {},
   "outputs": [
    {
     "data": {
      "text/plain": [
       "Index(['gameId', 'playId', 'playDescription', 'quarter', 'down', 'yardsToGo',\n",
       "       'possessionTeam', 'defensiveTeam', 'yardlineSide', 'yardlineNumber',\n",
       "       'gameClock', 'preSnapHomeScore', 'preSnapVisitorScore',\n",
       "       'playNullifiedByPenalty', 'absoluteYardlineNumber',\n",
       "       'preSnapHomeTeamWinProbability', 'preSnapVisitorTeamWinProbability',\n",
       "       'expectedPoints', 'offenseFormation', 'receiverAlignment',\n",
       "       'playClockAtSnap', 'passResult', 'passLength', 'targetX', 'targetY',\n",
       "       'playAction', 'dropbackType', 'dropbackDistance', 'passLocationType',\n",
       "       'timeToThrow', 'timeInTackleBox', 'timeToSack', 'passTippedAtLine',\n",
       "       'unblockedPressure', 'qbSpike', 'qbKneel', 'qbSneak',\n",
       "       'rushLocationType', 'penaltyYards', 'prePenaltyYardsGained',\n",
       "       'yardsGained', 'homeTeamWinProbabilityAdded',\n",
       "       'visitorTeamWinProbilityAdded', 'expectedPointsAdded', 'isDropback',\n",
       "       'pff_runConceptPrimary', 'pff_runConceptSecondary', 'pff_runPassOption',\n",
       "       'pff_passCoverage', 'pff_manZone'],\n",
       "      dtype='object')"
      ]
     },
     "execution_count": 16,
     "metadata": {},
     "output_type": "execute_result"
    }
   ],
   "source": [
    "plays = pd.read_csv('../data/plays.csv')\n",
    "plays.columns"
   ]
  },
  {
   "cell_type": "code",
   "execution_count": 17,
   "metadata": {
    "colab": {
     "base_uri": "https://localhost:8080/",
     "height": 206
    },
    "id": "I-hI7bh22yfy",
    "outputId": "842130ad-2dd2-4154-9d3a-bfff48b98e9e"
   },
   "outputs": [
    {
     "data": {
      "text/html": [
       "<div>\n",
       "<style scoped>\n",
       "    .dataframe tbody tr th:only-of-type {\n",
       "        vertical-align: middle;\n",
       "    }\n",
       "\n",
       "    .dataframe tbody tr th {\n",
       "        vertical-align: top;\n",
       "    }\n",
       "\n",
       "    .dataframe thead th {\n",
       "        text-align: right;\n",
       "    }\n",
       "</style>\n",
       "<table border=\"1\" class=\"dataframe\">\n",
       "  <thead>\n",
       "    <tr style=\"text-align: right;\">\n",
       "      <th></th>\n",
       "      <th>gameId</th>\n",
       "      <th>playId</th>\n",
       "      <th>playResult</th>\n",
       "    </tr>\n",
       "  </thead>\n",
       "  <tbody>\n",
       "    <tr>\n",
       "      <th>0</th>\n",
       "      <td>2022102302</td>\n",
       "      <td>2655</td>\n",
       "      <td>1.0</td>\n",
       "    </tr>\n",
       "    <tr>\n",
       "      <th>1</th>\n",
       "      <td>2022091809</td>\n",
       "      <td>3698</td>\n",
       "      <td>1.0</td>\n",
       "    </tr>\n",
       "    <tr>\n",
       "      <th>2</th>\n",
       "      <td>2022103004</td>\n",
       "      <td>3146</td>\n",
       "      <td>1.0</td>\n",
       "    </tr>\n",
       "    <tr>\n",
       "      <th>3</th>\n",
       "      <td>2022110610</td>\n",
       "      <td>348</td>\n",
       "      <td>1.0</td>\n",
       "    </tr>\n",
       "    <tr>\n",
       "      <th>4</th>\n",
       "      <td>2022102700</td>\n",
       "      <td>2799</td>\n",
       "      <td>3.0</td>\n",
       "    </tr>\n",
       "  </tbody>\n",
       "</table>\n",
       "</div>"
      ],
      "text/plain": [
       "       gameId  playId  playResult\n",
       "0  2022102302    2655         1.0\n",
       "1  2022091809    3698         1.0\n",
       "2  2022103004    3146         1.0\n",
       "3  2022110610     348         1.0\n",
       "4  2022102700    2799         3.0"
      ]
     },
     "execution_count": 17,
     "metadata": {},
     "output_type": "execute_result"
    }
   ],
   "source": [
    "plays = plays[['gameId', 'playId', 'passResult', 'rushLocationType']]\n",
    "\n",
    "plays['passResult'] = np.where(plays['passResult'].isna(), 0, 1)\n",
    "\n",
    "plays['rushLocationType'] = plays['rushLocationType'].map({\n",
    "    'INSIDE_RIGHT': 3,\n",
    "    'INSIDE_LEFT': 3,\n",
    "    'OUTSIDE_RIGHT': 2,\n",
    "    'OUTSIDE_LEFT': 4,\n",
    "}).fillna(0)\n",
    "\n",
    "plays['playResult'] = plays['passResult'].astype(int) + plays['rushLocationType']\n",
    "plays = plays.dropna(subset=['playResult'])\n",
    "plays = plays[['gameId','playId', 'playResult']]\n",
    "plays.head()"
   ]
  },
  {
   "cell_type": "code",
   "execution_count": 18,
   "metadata": {
    "colab": {
     "base_uri": "https://localhost:8080/"
    },
    "id": "4hyH37cYz-Kc",
    "outputId": "31714334-18d0-42d2-907b-065a2a0a0ecb"
   },
   "outputs": [
    {
     "data": {
      "text/plain": [
       "Index(['gameId', 'playId', 'nflId', 'displayName', 'frameId', 'frameType',\n",
       "       'time', 'jerseyNumber', 'club', 'playDirection', 'x', 'y', 's', 'a',\n",
       "       'dis', 'o', 'dir', 'event'],\n",
       "      dtype='object')"
      ]
     },
     "execution_count": 18,
     "metadata": {},
     "output_type": "execute_result"
    }
   ],
   "source": [
    "tracking = pd.read_csv('../data/tracking_week_1.csv')\n",
    "\n",
    "tracking.columns"
   ]
  },
  {
   "cell_type": "code",
   "execution_count": 19,
   "metadata": {
    "colab": {
     "base_uri": "https://localhost:8080/",
     "height": 206
    },
    "id": "tibCAkDsAz_2",
    "outputId": "c28af8b8-51ec-4d77-8bf0-80bd5debb72f"
   },
   "outputs": [
    {
     "data": {
      "text/html": [
       "<div>\n",
       "<style scoped>\n",
       "    .dataframe tbody tr th:only-of-type {\n",
       "        vertical-align: middle;\n",
       "    }\n",
       "\n",
       "    .dataframe tbody tr th {\n",
       "        vertical-align: top;\n",
       "    }\n",
       "\n",
       "    .dataframe thead th {\n",
       "        text-align: right;\n",
       "    }\n",
       "</style>\n",
       "<table border=\"1\" class=\"dataframe\">\n",
       "  <thead>\n",
       "    <tr style=\"text-align: right;\">\n",
       "      <th></th>\n",
       "      <th>gameId</th>\n",
       "      <th>playId</th>\n",
       "      <th>frameId</th>\n",
       "      <th>x</th>\n",
       "      <th>y</th>\n",
       "      <th>s</th>\n",
       "      <th>a</th>\n",
       "      <th>dis</th>\n",
       "      <th>o</th>\n",
       "      <th>dir</th>\n",
       "    </tr>\n",
       "  </thead>\n",
       "  <tbody>\n",
       "    <tr>\n",
       "      <th>0</th>\n",
       "      <td>2022091200</td>\n",
       "      <td>64</td>\n",
       "      <td>1</td>\n",
       "      <td>51.06</td>\n",
       "      <td>28.55</td>\n",
       "      <td>0.72</td>\n",
       "      <td>0.37</td>\n",
       "      <td>0.07</td>\n",
       "      <td>246.17</td>\n",
       "      <td>68.34</td>\n",
       "    </tr>\n",
       "    <tr>\n",
       "      <th>1</th>\n",
       "      <td>2022091200</td>\n",
       "      <td>64</td>\n",
       "      <td>2</td>\n",
       "      <td>51.13</td>\n",
       "      <td>28.57</td>\n",
       "      <td>0.71</td>\n",
       "      <td>0.36</td>\n",
       "      <td>0.07</td>\n",
       "      <td>245.41</td>\n",
       "      <td>71.21</td>\n",
       "    </tr>\n",
       "    <tr>\n",
       "      <th>2</th>\n",
       "      <td>2022091200</td>\n",
       "      <td>64</td>\n",
       "      <td>3</td>\n",
       "      <td>51.20</td>\n",
       "      <td>28.59</td>\n",
       "      <td>0.69</td>\n",
       "      <td>0.23</td>\n",
       "      <td>0.07</td>\n",
       "      <td>244.45</td>\n",
       "      <td>69.90</td>\n",
       "    </tr>\n",
       "    <tr>\n",
       "      <th>3</th>\n",
       "      <td>2022091200</td>\n",
       "      <td>64</td>\n",
       "      <td>4</td>\n",
       "      <td>51.26</td>\n",
       "      <td>28.62</td>\n",
       "      <td>0.67</td>\n",
       "      <td>0.22</td>\n",
       "      <td>0.07</td>\n",
       "      <td>244.45</td>\n",
       "      <td>67.98</td>\n",
       "    </tr>\n",
       "    <tr>\n",
       "      <th>4</th>\n",
       "      <td>2022091200</td>\n",
       "      <td>64</td>\n",
       "      <td>5</td>\n",
       "      <td>51.32</td>\n",
       "      <td>28.65</td>\n",
       "      <td>0.65</td>\n",
       "      <td>0.34</td>\n",
       "      <td>0.07</td>\n",
       "      <td>245.74</td>\n",
       "      <td>62.83</td>\n",
       "    </tr>\n",
       "  </tbody>\n",
       "</table>\n",
       "</div>"
      ],
      "text/plain": [
       "       gameId  playId  frameId      x      y     s     a   dis       o    dir\n",
       "0  2022091200      64        1  51.06  28.55  0.72  0.37  0.07  246.17  68.34\n",
       "1  2022091200      64        2  51.13  28.57  0.71  0.36  0.07  245.41  71.21\n",
       "2  2022091200      64        3  51.20  28.59  0.69  0.23  0.07  244.45  69.90\n",
       "3  2022091200      64        4  51.26  28.62  0.67  0.22  0.07  244.45  67.98\n",
       "4  2022091200      64        5  51.32  28.65  0.65  0.34  0.07  245.74  62.83"
      ]
     },
     "execution_count": 19,
     "metadata": {},
     "output_type": "execute_result"
    }
   ],
   "source": [
    "tracking = tracking[tracking['frameType'].isin(['BEFORE_SNAP','SNAP'])]\n",
    "\n",
    "features = ['gameId', 'playId','frameId', 'x', 'y', 's', 'a', 'dis', 'o', 'dir']\n",
    "tracking = tracking[features]\n",
    "tracking.head()"
   ]
  },
  {
   "cell_type": "code",
   "execution_count": 20,
   "metadata": {
    "colab": {
     "base_uri": "https://localhost:8080/",
     "height": 206
    },
    "id": "rSYvsAq8C8nw",
    "outputId": "68ac4d41-65e8-4b06-ffe5-6f6d82506434"
   },
   "outputs": [
    {
     "data": {
      "text/html": [
       "<div>\n",
       "<style scoped>\n",
       "    .dataframe tbody tr th:only-of-type {\n",
       "        vertical-align: middle;\n",
       "    }\n",
       "\n",
       "    .dataframe tbody tr th {\n",
       "        vertical-align: top;\n",
       "    }\n",
       "\n",
       "    .dataframe thead th {\n",
       "        text-align: right;\n",
       "    }\n",
       "</style>\n",
       "<table border=\"1\" class=\"dataframe\">\n",
       "  <thead>\n",
       "    <tr style=\"text-align: right;\">\n",
       "      <th></th>\n",
       "      <th>gameId</th>\n",
       "      <th>playId</th>\n",
       "      <th>frameId</th>\n",
       "      <th>x</th>\n",
       "      <th>y</th>\n",
       "      <th>s</th>\n",
       "      <th>a</th>\n",
       "      <th>dis</th>\n",
       "      <th>o</th>\n",
       "      <th>dir</th>\n",
       "      <th>playResult</th>\n",
       "    </tr>\n",
       "  </thead>\n",
       "  <tbody>\n",
       "    <tr>\n",
       "      <th>0</th>\n",
       "      <td>2022091200</td>\n",
       "      <td>64</td>\n",
       "      <td>1</td>\n",
       "      <td>51.06</td>\n",
       "      <td>28.55</td>\n",
       "      <td>0.72</td>\n",
       "      <td>0.37</td>\n",
       "      <td>0.07</td>\n",
       "      <td>246.17</td>\n",
       "      <td>68.34</td>\n",
       "      <td>2.0</td>\n",
       "    </tr>\n",
       "    <tr>\n",
       "      <th>1</th>\n",
       "      <td>2022091200</td>\n",
       "      <td>64</td>\n",
       "      <td>2</td>\n",
       "      <td>51.13</td>\n",
       "      <td>28.57</td>\n",
       "      <td>0.71</td>\n",
       "      <td>0.36</td>\n",
       "      <td>0.07</td>\n",
       "      <td>245.41</td>\n",
       "      <td>71.21</td>\n",
       "      <td>2.0</td>\n",
       "    </tr>\n",
       "    <tr>\n",
       "      <th>2</th>\n",
       "      <td>2022091200</td>\n",
       "      <td>64</td>\n",
       "      <td>3</td>\n",
       "      <td>51.20</td>\n",
       "      <td>28.59</td>\n",
       "      <td>0.69</td>\n",
       "      <td>0.23</td>\n",
       "      <td>0.07</td>\n",
       "      <td>244.45</td>\n",
       "      <td>69.90</td>\n",
       "      <td>2.0</td>\n",
       "    </tr>\n",
       "    <tr>\n",
       "      <th>3</th>\n",
       "      <td>2022091200</td>\n",
       "      <td>64</td>\n",
       "      <td>4</td>\n",
       "      <td>51.26</td>\n",
       "      <td>28.62</td>\n",
       "      <td>0.67</td>\n",
       "      <td>0.22</td>\n",
       "      <td>0.07</td>\n",
       "      <td>244.45</td>\n",
       "      <td>67.98</td>\n",
       "      <td>2.0</td>\n",
       "    </tr>\n",
       "    <tr>\n",
       "      <th>4</th>\n",
       "      <td>2022091200</td>\n",
       "      <td>64</td>\n",
       "      <td>5</td>\n",
       "      <td>51.32</td>\n",
       "      <td>28.65</td>\n",
       "      <td>0.65</td>\n",
       "      <td>0.34</td>\n",
       "      <td>0.07</td>\n",
       "      <td>245.74</td>\n",
       "      <td>62.83</td>\n",
       "      <td>2.0</td>\n",
       "    </tr>\n",
       "  </tbody>\n",
       "</table>\n",
       "</div>"
      ],
      "text/plain": [
       "       gameId  playId  frameId      x      y     s     a   dis       o    dir  \\\n",
       "0  2022091200      64        1  51.06  28.55  0.72  0.37  0.07  246.17  68.34   \n",
       "1  2022091200      64        2  51.13  28.57  0.71  0.36  0.07  245.41  71.21   \n",
       "2  2022091200      64        3  51.20  28.59  0.69  0.23  0.07  244.45  69.90   \n",
       "3  2022091200      64        4  51.26  28.62  0.67  0.22  0.07  244.45  67.98   \n",
       "4  2022091200      64        5  51.32  28.65  0.65  0.34  0.07  245.74  62.83   \n",
       "\n",
       "   playResult  \n",
       "0         2.0  \n",
       "1         2.0  \n",
       "2         2.0  \n",
       "3         2.0  \n",
       "4         2.0  "
      ]
     },
     "execution_count": 20,
     "metadata": {},
     "output_type": "execute_result"
    }
   ],
   "source": [
    "merged = tracking.merge(plays, on=['gameId','playId'], how='inner')\n",
    "merged.head()"
   ]
  },
  {
   "cell_type": "code",
   "execution_count": 21,
   "metadata": {
    "colab": {
     "base_uri": "https://localhost:8080/",
     "height": 272
    },
    "id": "OhP33wM9IaT2",
    "outputId": "ef082edf-6f1a-4533-c760-96afbe1de4ef"
   },
   "outputs": [
    {
     "data": {
      "text/plain": [
       "playResult\n",
       "1.0    2775249\n",
       "3.0    1002616\n",
       "2.0     427409\n",
       "4.0     423614\n",
       "5.0      42182\n",
       "0.0      21390\n",
       "Name: count, dtype: int64"
      ]
     },
     "execution_count": 21,
     "metadata": {},
     "output_type": "execute_result"
    }
   ],
   "source": [
    "merged.playResult.value_counts()\n",
    "# 1 = pass\n",
    "# 2 = right\n",
    "# 3 = middle\n",
    "# 4 = left\n",
    "# 5 = other"
   ]
  },
  {
   "cell_type": "code",
   "execution_count": 22,
   "metadata": {},
   "outputs": [
    {
     "data": {
      "text/html": [
       "<div>\n",
       "<style scoped>\n",
       "    .dataframe tbody tr th:only-of-type {\n",
       "        vertical-align: middle;\n",
       "    }\n",
       "\n",
       "    .dataframe tbody tr th {\n",
       "        vertical-align: top;\n",
       "    }\n",
       "\n",
       "    .dataframe thead th {\n",
       "        text-align: right;\n",
       "    }\n",
       "</style>\n",
       "<table border=\"1\" class=\"dataframe\">\n",
       "  <thead>\n",
       "    <tr style=\"text-align: right;\">\n",
       "      <th></th>\n",
       "      <th>gameId</th>\n",
       "      <th>playId</th>\n",
       "      <th>frameId</th>\n",
       "      <th>x</th>\n",
       "      <th>y</th>\n",
       "      <th>s</th>\n",
       "      <th>a</th>\n",
       "      <th>dis</th>\n",
       "      <th>o</th>\n",
       "      <th>dir</th>\n",
       "      <th>playResult</th>\n",
       "    </tr>\n",
       "  </thead>\n",
       "  <tbody>\n",
       "    <tr>\n",
       "      <th>4420324</th>\n",
       "      <td>2022090800</td>\n",
       "      <td>56</td>\n",
       "      <td>1</td>\n",
       "      <td>89.48</td>\n",
       "      <td>29.52</td>\n",
       "      <td>0.68</td>\n",
       "      <td>1.17</td>\n",
       "      <td>0.07</td>\n",
       "      <td>308.30</td>\n",
       "      <td>266.54</td>\n",
       "      <td>1.0</td>\n",
       "    </tr>\n",
       "    <tr>\n",
       "      <th>4420470</th>\n",
       "      <td>2022090800</td>\n",
       "      <td>56</td>\n",
       "      <td>1</td>\n",
       "      <td>81.93</td>\n",
       "      <td>28.52</td>\n",
       "      <td>1.24</td>\n",
       "      <td>0.44</td>\n",
       "      <td>0.12</td>\n",
       "      <td>48.93</td>\n",
       "      <td>305.70</td>\n",
       "      <td>1.0</td>\n",
       "    </tr>\n",
       "    <tr>\n",
       "      <th>4420616</th>\n",
       "      <td>2022090800</td>\n",
       "      <td>56</td>\n",
       "      <td>1</td>\n",
       "      <td>82.90</td>\n",
       "      <td>29.84</td>\n",
       "      <td>0.69</td>\n",
       "      <td>0.43</td>\n",
       "      <td>0.07</td>\n",
       "      <td>85.38</td>\n",
       "      <td>312.18</td>\n",
       "      <td>1.0</td>\n",
       "    </tr>\n",
       "    <tr>\n",
       "      <th>4420762</th>\n",
       "      <td>2022090800</td>\n",
       "      <td>56</td>\n",
       "      <td>1</td>\n",
       "      <td>88.80</td>\n",
       "      <td>30.19</td>\n",
       "      <td>2.01</td>\n",
       "      <td>0.12</td>\n",
       "      <td>0.20</td>\n",
       "      <td>256.97</td>\n",
       "      <td>263.50</td>\n",
       "      <td>1.0</td>\n",
       "    </tr>\n",
       "    <tr>\n",
       "      <th>4420908</th>\n",
       "      <td>2022090800</td>\n",
       "      <td>56</td>\n",
       "      <td>1</td>\n",
       "      <td>91.08</td>\n",
       "      <td>28.34</td>\n",
       "      <td>2.50</td>\n",
       "      <td>0.51</td>\n",
       "      <td>0.25</td>\n",
       "      <td>275.29</td>\n",
       "      <td>185.78</td>\n",
       "      <td>1.0</td>\n",
       "    </tr>\n",
       "  </tbody>\n",
       "</table>\n",
       "</div>"
      ],
      "text/plain": [
       "             gameId  playId  frameId      x      y     s     a   dis       o  \\\n",
       "4420324  2022090800      56        1  89.48  29.52  0.68  1.17  0.07  308.30   \n",
       "4420470  2022090800      56        1  81.93  28.52  1.24  0.44  0.12   48.93   \n",
       "4420616  2022090800      56        1  82.90  29.84  0.69  0.43  0.07   85.38   \n",
       "4420762  2022090800      56        1  88.80  30.19  2.01  0.12  0.20  256.97   \n",
       "4420908  2022090800      56        1  91.08  28.34  2.50  0.51  0.25  275.29   \n",
       "\n",
       "            dir  playResult  \n",
       "4420324  266.54         1.0  \n",
       "4420470  305.70         1.0  \n",
       "4420616  312.18         1.0  \n",
       "4420762  263.50         1.0  \n",
       "4420908  185.78         1.0  "
      ]
     },
     "execution_count": 22,
     "metadata": {},
     "output_type": "execute_result"
    }
   ],
   "source": [
    "merged = merged.sort_values(by=['gameId', 'playId', 'frameId'])\n",
    "merged.head()"
   ]
  },
  {
   "cell_type": "code",
   "execution_count": 23,
   "metadata": {},
   "outputs": [
    {
     "name": "stdout",
     "output_type": "stream",
     "text": [
      "Training set size: 3738880 rows\n",
      "Testing set size: 953580 rows\n"
     ]
    }
   ],
   "source": [
    "from sklearn.model_selection import train_test_split\n",
    "\n",
    "unique_plays = merged[['gameId', 'playId']].drop_duplicates()\n",
    "\n",
    "train_plays, test_plays = train_test_split(unique_plays, test_size=0.2, random_state=42)\n",
    "\n",
    "X_train = merged[['x', 'y', 's', 'a', 'dis', 'o', 'dir']]\n",
    "y_train = merged['playResult']\n",
    "\n",
    "X_test = merged[['x', 'y', 's', 'a', 'dis', 'o', 'dir']]\n",
    "y_test = merged['playResult']\n",
    "\n",
    "train_df = merged.merge(train_plays, on=['gameId', 'playId'])\n",
    "test_df = merged.merge(test_plays, on=['gameId', 'playId'])\n",
    "\n",
    "# Check the result\n",
    "print(f\"Training set size: {len(train_df)} rows\")\n",
    "print(f\"Testing set size: {len(test_df)} rows\")\n"
   ]
  },
  {
   "cell_type": "code",
   "execution_count": 24,
   "metadata": {
    "colab": {
     "base_uri": "https://localhost:8080/"
    },
    "id": "8OXYvL26PU50",
    "outputId": "a3cd8b06-ea52-48e3-e50a-4342088475d4"
   },
   "outputs": [],
   "source": [
    "import numpy as np\n",
    "from tensorflow.keras.models import Sequential\n",
    "from tensorflow.keras.layers import Dense, Dropout\n",
    "from tensorflow.keras.utils import to_categorical\n",
    "\n",
    "# Assuming X_train, X_test, y_train, and y_test are already prepared\n",
    "# Here, X_train and X_test are of shape (num_samples, 7) where 7 is the number of features\n",
    "\n",
    "# Define the neural network model\n",
    "model = Sequential([\n",
    "    Dense(64, activation='relu', input_shape=(7,)),  # 7 input features\n",
    "    Dropout(0.3),\n",
    "    Dense(32, activation='relu'),\n",
    "    Dropout(0.3),\n",
    "    Dense(4, activation='softmax')  # 4 classes, one for each play type\n",
    "])\n",
    "\n",
    "# Compile the model\n",
    "model.compile(optimizer='adam', loss='categorical_crossentropy', metrics=['accuracy'])\n",
    "\n",
    "# Convert target variables to one-hot encoding, handling unknown values\n",
    "# Replace values outside the range 1-4 with a default value (e.g., 1)\n",
    "y_train_filtered = y_train.copy()\n",
    "y_train_filtered[~y_train_filtered.isin([1, 2, 3, 4])] = 1 # Replace values not in [1, 2, 3, 4] with 1\n",
    "y_train_encoded = to_categorical(y_train_filtered - 1, num_classes=4) # Subtract 1 and one-hot encode\n",
    "\n",
    "\n",
    "y_test_filtered = y_test.copy()\n",
    "y_test_filtered[~y_test_filtered.isin([1, 2, 3, 4])] = 1 # Replace values not in [1, 2, 3, 4] with 1\n",
    "y_test_encoded = to_categorical(y_test_filtered - 1, num_classes=4) # Subtract 1 and one-hot encode"
   ]
  },
  {
   "cell_type": "code",
   "execution_count": 25,
   "metadata": {},
   "outputs": [
    {
     "data": {
      "text/html": [
       "<div>\n",
       "<style scoped>\n",
       "    .dataframe tbody tr th:only-of-type {\n",
       "        vertical-align: middle;\n",
       "    }\n",
       "\n",
       "    .dataframe tbody tr th {\n",
       "        vertical-align: top;\n",
       "    }\n",
       "\n",
       "    .dataframe thead th {\n",
       "        text-align: right;\n",
       "    }\n",
       "</style>\n",
       "<table border=\"1\" class=\"dataframe\">\n",
       "  <thead>\n",
       "    <tr style=\"text-align: right;\">\n",
       "      <th></th>\n",
       "      <th>x</th>\n",
       "      <th>y</th>\n",
       "      <th>s</th>\n",
       "      <th>a</th>\n",
       "      <th>dis</th>\n",
       "      <th>o</th>\n",
       "      <th>dir</th>\n",
       "    </tr>\n",
       "  </thead>\n",
       "  <tbody>\n",
       "    <tr>\n",
       "      <th>4420324</th>\n",
       "      <td>89.48</td>\n",
       "      <td>29.52</td>\n",
       "      <td>0.68</td>\n",
       "      <td>1.17</td>\n",
       "      <td>0.07</td>\n",
       "      <td>308.30</td>\n",
       "      <td>266.54</td>\n",
       "    </tr>\n",
       "    <tr>\n",
       "      <th>4420470</th>\n",
       "      <td>81.93</td>\n",
       "      <td>28.52</td>\n",
       "      <td>1.24</td>\n",
       "      <td>0.44</td>\n",
       "      <td>0.12</td>\n",
       "      <td>48.93</td>\n",
       "      <td>305.70</td>\n",
       "    </tr>\n",
       "    <tr>\n",
       "      <th>4420616</th>\n",
       "      <td>82.90</td>\n",
       "      <td>29.84</td>\n",
       "      <td>0.69</td>\n",
       "      <td>0.43</td>\n",
       "      <td>0.07</td>\n",
       "      <td>85.38</td>\n",
       "      <td>312.18</td>\n",
       "    </tr>\n",
       "    <tr>\n",
       "      <th>4420762</th>\n",
       "      <td>88.80</td>\n",
       "      <td>30.19</td>\n",
       "      <td>2.01</td>\n",
       "      <td>0.12</td>\n",
       "      <td>0.20</td>\n",
       "      <td>256.97</td>\n",
       "      <td>263.50</td>\n",
       "    </tr>\n",
       "    <tr>\n",
       "      <th>4420908</th>\n",
       "      <td>91.08</td>\n",
       "      <td>28.34</td>\n",
       "      <td>2.50</td>\n",
       "      <td>0.51</td>\n",
       "      <td>0.25</td>\n",
       "      <td>275.29</td>\n",
       "      <td>185.78</td>\n",
       "    </tr>\n",
       "  </tbody>\n",
       "</table>\n",
       "</div>"
      ],
      "text/plain": [
       "             x      y     s     a   dis       o     dir\n",
       "4420324  89.48  29.52  0.68  1.17  0.07  308.30  266.54\n",
       "4420470  81.93  28.52  1.24  0.44  0.12   48.93  305.70\n",
       "4420616  82.90  29.84  0.69  0.43  0.07   85.38  312.18\n",
       "4420762  88.80  30.19  2.01  0.12  0.20  256.97  263.50\n",
       "4420908  91.08  28.34  2.50  0.51  0.25  275.29  185.78"
      ]
     },
     "execution_count": 25,
     "metadata": {},
     "output_type": "execute_result"
    }
   ],
   "source": [
    "X_test.head()"
   ]
  },
  {
   "cell_type": "code",
   "execution_count": 27,
   "metadata": {},
   "outputs": [],
   "source": [
    "from sklearn.preprocessing import StandardScaler\n",
    "\n",
    "scaler = StandardScaler()\n",
    "X_train_scaled = scaler.fit_transform(X_train)\n",
    "X_test_scaled = scaler.transform(X_test)"
   ]
  },
  {
   "cell_type": "code",
   "execution_count": 28,
   "metadata": {},
   "outputs": [
    {
     "name": "stdout",
     "output_type": "stream",
     "text": [
      "[[ 1.16932341  0.40496724  0.19011913 ...  0.1858929   1.35680396\n",
      "   0.82541567]\n",
      " [ 0.86148823  0.25622215  0.86623227 ...  0.79118549 -1.36580006\n",
      "   1.19949479]\n",
      " [ 0.90103791  0.45256567  0.20219258 ...  0.1858929  -0.98318482\n",
      "   1.26139553]\n",
      " ...\n",
      " [ 0.09414279 -0.08737901 -0.55843471 ... -0.5404582  -0.84221026\n",
      "  -0.63889968]\n",
      " [ 0.09047323 -0.75970681 -0.5825816  ... -0.66151672 -0.8089348\n",
      "   0.46604752]\n",
      " [ 0.11412143 -0.41610565 -0.6308754  ... -0.66151672         nan\n",
      "          nan]]\n"
     ]
    }
   ],
   "source": [
    "print(X_train_scaled)"
   ]
  },
  {
   "cell_type": "code",
   "execution_count": 29,
   "metadata": {},
   "outputs": [
    {
     "name": "stdout",
     "output_type": "stream",
     "text": [
      "Epoch 1/5\n",
      "293279/293279 [==============================] - 424s 1ms/step - loss: 1.0693 - accuracy: 0.6050 - val_loss: 1.0689 - val_accuracy: 0.6050\n",
      "Epoch 2/5\n",
      "293279/293279 [==============================] - 416s 1ms/step - loss: 1.0693 - accuracy: 0.6050 - val_loss: 1.0709 - val_accuracy: 0.6050\n",
      "Epoch 3/5\n",
      "293279/293279 [==============================] - 423s 1ms/step - loss: 1.0693 - accuracy: 0.6050 - val_loss: 1.0696 - val_accuracy: 0.6050\n",
      "Epoch 4/5\n",
      "293279/293279 [==============================] - 416s 1ms/step - loss: 1.0693 - accuracy: 0.6050 - val_loss: 1.0681 - val_accuracy: 0.6050\n",
      "Epoch 5/5\n",
      "293279/293279 [==============================] - 422s 1ms/step - loss: 1.0693 - accuracy: 0.6050 - val_loss: 1.0693 - val_accuracy: 0.6050\n"
     ]
    }
   ],
   "source": [
    "# Train the model using the encoded target variables\n",
    "history = model.fit(X_train_scaled, y_train_encoded, epochs=5, batch_size=16, validation_data=(X_test_scaled, y_test_encoded))\n",
    "saved_model = model.save('model.h5')"
   ]
  }
 ],
 "metadata": {
  "colab": {
   "provenance": []
  },
  "kernelspec": {
   "display_name": "torch",
   "language": "python",
   "name": "python3"
  },
  "language_info": {
   "codemirror_mode": {
    "name": "ipython",
    "version": 3
   },
   "file_extension": ".py",
   "mimetype": "text/x-python",
   "name": "python",
   "nbconvert_exporter": "python",
   "pygments_lexer": "ipython3",
   "version": "3.9.18"
  }
 },
 "nbformat": 4,
 "nbformat_minor": 0
}
