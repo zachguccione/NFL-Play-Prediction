{
 "cells": [
  {
   "cell_type": "markdown",
   "metadata": {
    "id": "2azCR9Rdm-hF"
   },
   "source": [
    "\n",
    "\n",
    "---\n",
    "\n",
    "\n",
    "# **Goal of this Model**\n",
    "\n",
    "\n",
    "---\n",
    "\n",
    "\n",
    "\n",
    "With this model I will solely focus on using pre-snap movement on the offensive side of the ball to determine one of four outcomes:\n",
    "\n",
    "\n",
    "*   Run middle\n",
    "*   Run left\n",
    "*   Run right\n",
    "*   Pass\n",
    "\n",
    "\n",
    "</br>\n",
    "\n",
    "I will be using a Long Short-Term Neural Network in order to achieve this.\n",
    "\n",
    "</br>\n",
    "\n"
   ]
  },
  {
   "cell_type": "markdown",
   "metadata": {
    "id": "yUJ3jfN1z8oV"
   },
   "source": [
    "\n",
    "\n",
    "---\n",
    "\n",
    "\n",
    "# **Code**\n",
    "\n",
    "---"
   ]
  },
  {
   "cell_type": "markdown",
   "metadata": {
    "id": "HiQU23rKU6KL"
   },
   "source": [
    "**Creating a 2-D Model**\n",
    "\n",
    "---\n",
    "\n"
   ]
  },
  {
   "cell_type": "code",
   "execution_count": 1,
   "metadata": {
    "id": "J6oNbnla6vwN"
   },
   "outputs": [],
   "source": [
    "import numpy as np\n",
    "import pandas as pd\n",
    "from sklearn.model_selection import train_test_split"
   ]
  },
  {
   "cell_type": "code",
   "execution_count": 2,
   "metadata": {},
   "outputs": [
    {
     "data": {
      "text/plain": [
       "Index(['gameId', 'playId', 'playDescription', 'quarter', 'down', 'yardsToGo',\n",
       "       'possessionTeam', 'defensiveTeam', 'yardlineSide', 'yardlineNumber',\n",
       "       'gameClock', 'preSnapHomeScore', 'preSnapVisitorScore',\n",
       "       'playNullifiedByPenalty', 'absoluteYardlineNumber',\n",
       "       'preSnapHomeTeamWinProbability', 'preSnapVisitorTeamWinProbability',\n",
       "       'expectedPoints', 'offenseFormation', 'receiverAlignment',\n",
       "       'playClockAtSnap', 'passResult', 'passLength', 'targetX', 'targetY',\n",
       "       'playAction', 'dropbackType', 'dropbackDistance', 'passLocationType',\n",
       "       'timeToThrow', 'timeInTackleBox', 'timeToSack', 'passTippedAtLine',\n",
       "       'unblockedPressure', 'qbSpike', 'qbKneel', 'qbSneak',\n",
       "       'rushLocationType', 'penaltyYards', 'prePenaltyYardsGained',\n",
       "       'yardsGained', 'homeTeamWinProbabilityAdded',\n",
       "       'visitorTeamWinProbilityAdded', 'expectedPointsAdded', 'isDropback',\n",
       "       'pff_runConceptPrimary', 'pff_runConceptSecondary', 'pff_runPassOption',\n",
       "       'pff_passCoverage', 'pff_manZone'],\n",
       "      dtype='object')"
      ]
     },
     "execution_count": 2,
     "metadata": {},
     "output_type": "execute_result"
    }
   ],
   "source": [
    "plays = pd.read_csv('plays.csv')\n",
    "plays.columns"
   ]
  },
  {
   "cell_type": "code",
   "execution_count": 3,
   "metadata": {
    "colab": {
     "base_uri": "https://localhost:8080/",
     "height": 206
    },
    "id": "I-hI7bh22yfy",
    "outputId": "842130ad-2dd2-4154-9d3a-bfff48b98e9e"
   },
   "outputs": [
    {
     "data": {
      "text/html": [
       "<div>\n",
       "<style scoped>\n",
       "    .dataframe tbody tr th:only-of-type {\n",
       "        vertical-align: middle;\n",
       "    }\n",
       "\n",
       "    .dataframe tbody tr th {\n",
       "        vertical-align: top;\n",
       "    }\n",
       "\n",
       "    .dataframe thead th {\n",
       "        text-align: right;\n",
       "    }\n",
       "</style>\n",
       "<table border=\"1\" class=\"dataframe\">\n",
       "  <thead>\n",
       "    <tr style=\"text-align: right;\">\n",
       "      <th></th>\n",
       "      <th>gameId</th>\n",
       "      <th>playId</th>\n",
       "      <th>playResult</th>\n",
       "    </tr>\n",
       "  </thead>\n",
       "  <tbody>\n",
       "    <tr>\n",
       "      <th>0</th>\n",
       "      <td>2022102302</td>\n",
       "      <td>2655</td>\n",
       "      <td>1.0</td>\n",
       "    </tr>\n",
       "    <tr>\n",
       "      <th>1</th>\n",
       "      <td>2022091809</td>\n",
       "      <td>3698</td>\n",
       "      <td>1.0</td>\n",
       "    </tr>\n",
       "    <tr>\n",
       "      <th>2</th>\n",
       "      <td>2022103004</td>\n",
       "      <td>3146</td>\n",
       "      <td>1.0</td>\n",
       "    </tr>\n",
       "    <tr>\n",
       "      <th>3</th>\n",
       "      <td>2022110610</td>\n",
       "      <td>348</td>\n",
       "      <td>1.0</td>\n",
       "    </tr>\n",
       "    <tr>\n",
       "      <th>4</th>\n",
       "      <td>2022102700</td>\n",
       "      <td>2799</td>\n",
       "      <td>3.0</td>\n",
       "    </tr>\n",
       "  </tbody>\n",
       "</table>\n",
       "</div>"
      ],
      "text/plain": [
       "       gameId  playId  playResult\n",
       "0  2022102302    2655         1.0\n",
       "1  2022091809    3698         1.0\n",
       "2  2022103004    3146         1.0\n",
       "3  2022110610     348         1.0\n",
       "4  2022102700    2799         3.0"
      ]
     },
     "execution_count": 3,
     "metadata": {},
     "output_type": "execute_result"
    }
   ],
   "source": [
    "plays = plays[['gameId', 'playId', 'passResult', 'rushLocationType']]\n",
    "\n",
    "plays['passResult'] = np.where(plays['passResult'].isna(), 0, 1)\n",
    "\n",
    "plays['rushLocationType'] = plays['rushLocationType'].map({\n",
    "    'INSIDE_RIGHT': 3,\n",
    "    'INSIDE_LEFT': 3,\n",
    "    'OUTSIDE_RIGHT': 2,\n",
    "    'OUTSIDE_LEFT': 4,\n",
    "}).fillna(0)\n",
    "\n",
    "plays['playResult'] = plays['passResult'].astype(int) + plays['rushLocationType']\n",
    "plays = plays.dropna(subset=['playResult'])\n",
    "plays = plays[['gameId','playId', 'playResult']]\n",
    "plays.head()"
   ]
  },
  {
   "cell_type": "code",
   "execution_count": 4,
   "metadata": {
    "colab": {
     "base_uri": "https://localhost:8080/"
    },
    "id": "4hyH37cYz-Kc",
    "outputId": "31714334-18d0-42d2-907b-065a2a0a0ecb"
   },
   "outputs": [
    {
     "data": {
      "text/plain": [
       "Index(['gameId', 'playId', 'nflId', 'displayName', 'frameId', 'frameType',\n",
       "       'time', 'jerseyNumber', 'club', 'playDirection', 'x', 'y', 's', 'a',\n",
       "       'dis', 'o', 'dir', 'event'],\n",
       "      dtype='object')"
      ]
     },
     "execution_count": 4,
     "metadata": {},
     "output_type": "execute_result"
    }
   ],
   "source": [
    "tracking = pd.read_csv('tracking_week_1.csv')\n",
    "\n",
    "tracking.columns"
   ]
  },
  {
   "cell_type": "code",
   "execution_count": 6,
   "metadata": {
    "colab": {
     "base_uri": "https://localhost:8080/",
     "height": 206
    },
    "id": "tibCAkDsAz_2",
    "outputId": "c28af8b8-51ec-4d77-8bf0-80bd5debb72f"
   },
   "outputs": [
    {
     "data": {
      "text/html": [
       "<div>\n",
       "<style scoped>\n",
       "    .dataframe tbody tr th:only-of-type {\n",
       "        vertical-align: middle;\n",
       "    }\n",
       "\n",
       "    .dataframe tbody tr th {\n",
       "        vertical-align: top;\n",
       "    }\n",
       "\n",
       "    .dataframe thead th {\n",
       "        text-align: right;\n",
       "    }\n",
       "</style>\n",
       "<table border=\"1\" class=\"dataframe\">\n",
       "  <thead>\n",
       "    <tr style=\"text-align: right;\">\n",
       "      <th></th>\n",
       "      <th>gameId</th>\n",
       "      <th>playId</th>\n",
       "      <th>frameId</th>\n",
       "      <th>x</th>\n",
       "      <th>y</th>\n",
       "      <th>s</th>\n",
       "      <th>a</th>\n",
       "      <th>dis</th>\n",
       "      <th>o</th>\n",
       "      <th>dir</th>\n",
       "    </tr>\n",
       "  </thead>\n",
       "  <tbody>\n",
       "    <tr>\n",
       "      <th>0</th>\n",
       "      <td>2022091200</td>\n",
       "      <td>64</td>\n",
       "      <td>1</td>\n",
       "      <td>51.06</td>\n",
       "      <td>28.55</td>\n",
       "      <td>0.72</td>\n",
       "      <td>0.37</td>\n",
       "      <td>0.07</td>\n",
       "      <td>246.17</td>\n",
       "      <td>68.34</td>\n",
       "    </tr>\n",
       "    <tr>\n",
       "      <th>1</th>\n",
       "      <td>2022091200</td>\n",
       "      <td>64</td>\n",
       "      <td>2</td>\n",
       "      <td>51.13</td>\n",
       "      <td>28.57</td>\n",
       "      <td>0.71</td>\n",
       "      <td>0.36</td>\n",
       "      <td>0.07</td>\n",
       "      <td>245.41</td>\n",
       "      <td>71.21</td>\n",
       "    </tr>\n",
       "    <tr>\n",
       "      <th>2</th>\n",
       "      <td>2022091200</td>\n",
       "      <td>64</td>\n",
       "      <td>3</td>\n",
       "      <td>51.20</td>\n",
       "      <td>28.59</td>\n",
       "      <td>0.69</td>\n",
       "      <td>0.23</td>\n",
       "      <td>0.07</td>\n",
       "      <td>244.45</td>\n",
       "      <td>69.90</td>\n",
       "    </tr>\n",
       "    <tr>\n",
       "      <th>3</th>\n",
       "      <td>2022091200</td>\n",
       "      <td>64</td>\n",
       "      <td>4</td>\n",
       "      <td>51.26</td>\n",
       "      <td>28.62</td>\n",
       "      <td>0.67</td>\n",
       "      <td>0.22</td>\n",
       "      <td>0.07</td>\n",
       "      <td>244.45</td>\n",
       "      <td>67.98</td>\n",
       "    </tr>\n",
       "    <tr>\n",
       "      <th>4</th>\n",
       "      <td>2022091200</td>\n",
       "      <td>64</td>\n",
       "      <td>5</td>\n",
       "      <td>51.32</td>\n",
       "      <td>28.65</td>\n",
       "      <td>0.65</td>\n",
       "      <td>0.34</td>\n",
       "      <td>0.07</td>\n",
       "      <td>245.74</td>\n",
       "      <td>62.83</td>\n",
       "    </tr>\n",
       "  </tbody>\n",
       "</table>\n",
       "</div>"
      ],
      "text/plain": [
       "       gameId  playId  frameId      x      y     s     a   dis       o    dir\n",
       "0  2022091200      64        1  51.06  28.55  0.72  0.37  0.07  246.17  68.34\n",
       "1  2022091200      64        2  51.13  28.57  0.71  0.36  0.07  245.41  71.21\n",
       "2  2022091200      64        3  51.20  28.59  0.69  0.23  0.07  244.45  69.90\n",
       "3  2022091200      64        4  51.26  28.62  0.67  0.22  0.07  244.45  67.98\n",
       "4  2022091200      64        5  51.32  28.65  0.65  0.34  0.07  245.74  62.83"
      ]
     },
     "execution_count": 6,
     "metadata": {},
     "output_type": "execute_result"
    }
   ],
   "source": [
    "tracking = tracking[tracking['frameType'].isin(['BEFORE_SNAP','SNAP'])]\n",
    "\n",
    "features = ['gameId', 'playId','frameId', 'x', 'y', 's', 'a', 'dis', 'o', 'dir']\n",
    "tracking = tracking[features]\n",
    "tracking.head()"
   ]
  },
  {
   "cell_type": "code",
   "execution_count": 7,
   "metadata": {
    "colab": {
     "base_uri": "https://localhost:8080/",
     "height": 206
    },
    "id": "rSYvsAq8C8nw",
    "outputId": "68ac4d41-65e8-4b06-ffe5-6f6d82506434"
   },
   "outputs": [
    {
     "data": {
      "text/html": [
       "<div>\n",
       "<style scoped>\n",
       "    .dataframe tbody tr th:only-of-type {\n",
       "        vertical-align: middle;\n",
       "    }\n",
       "\n",
       "    .dataframe tbody tr th {\n",
       "        vertical-align: top;\n",
       "    }\n",
       "\n",
       "    .dataframe thead th {\n",
       "        text-align: right;\n",
       "    }\n",
       "</style>\n",
       "<table border=\"1\" class=\"dataframe\">\n",
       "  <thead>\n",
       "    <tr style=\"text-align: right;\">\n",
       "      <th></th>\n",
       "      <th>gameId</th>\n",
       "      <th>playId</th>\n",
       "      <th>frameId</th>\n",
       "      <th>x</th>\n",
       "      <th>y</th>\n",
       "      <th>s</th>\n",
       "      <th>a</th>\n",
       "      <th>dis</th>\n",
       "      <th>o</th>\n",
       "      <th>dir</th>\n",
       "      <th>playResult</th>\n",
       "    </tr>\n",
       "  </thead>\n",
       "  <tbody>\n",
       "    <tr>\n",
       "      <th>0</th>\n",
       "      <td>2022091200</td>\n",
       "      <td>64</td>\n",
       "      <td>1</td>\n",
       "      <td>51.06</td>\n",
       "      <td>28.55</td>\n",
       "      <td>0.72</td>\n",
       "      <td>0.37</td>\n",
       "      <td>0.07</td>\n",
       "      <td>246.17</td>\n",
       "      <td>68.34</td>\n",
       "      <td>2.0</td>\n",
       "    </tr>\n",
       "    <tr>\n",
       "      <th>1</th>\n",
       "      <td>2022091200</td>\n",
       "      <td>64</td>\n",
       "      <td>2</td>\n",
       "      <td>51.13</td>\n",
       "      <td>28.57</td>\n",
       "      <td>0.71</td>\n",
       "      <td>0.36</td>\n",
       "      <td>0.07</td>\n",
       "      <td>245.41</td>\n",
       "      <td>71.21</td>\n",
       "      <td>2.0</td>\n",
       "    </tr>\n",
       "    <tr>\n",
       "      <th>2</th>\n",
       "      <td>2022091200</td>\n",
       "      <td>64</td>\n",
       "      <td>3</td>\n",
       "      <td>51.20</td>\n",
       "      <td>28.59</td>\n",
       "      <td>0.69</td>\n",
       "      <td>0.23</td>\n",
       "      <td>0.07</td>\n",
       "      <td>244.45</td>\n",
       "      <td>69.90</td>\n",
       "      <td>2.0</td>\n",
       "    </tr>\n",
       "    <tr>\n",
       "      <th>3</th>\n",
       "      <td>2022091200</td>\n",
       "      <td>64</td>\n",
       "      <td>4</td>\n",
       "      <td>51.26</td>\n",
       "      <td>28.62</td>\n",
       "      <td>0.67</td>\n",
       "      <td>0.22</td>\n",
       "      <td>0.07</td>\n",
       "      <td>244.45</td>\n",
       "      <td>67.98</td>\n",
       "      <td>2.0</td>\n",
       "    </tr>\n",
       "    <tr>\n",
       "      <th>4</th>\n",
       "      <td>2022091200</td>\n",
       "      <td>64</td>\n",
       "      <td>5</td>\n",
       "      <td>51.32</td>\n",
       "      <td>28.65</td>\n",
       "      <td>0.65</td>\n",
       "      <td>0.34</td>\n",
       "      <td>0.07</td>\n",
       "      <td>245.74</td>\n",
       "      <td>62.83</td>\n",
       "      <td>2.0</td>\n",
       "    </tr>\n",
       "  </tbody>\n",
       "</table>\n",
       "</div>"
      ],
      "text/plain": [
       "       gameId  playId  frameId      x      y     s     a   dis       o    dir  \\\n",
       "0  2022091200      64        1  51.06  28.55  0.72  0.37  0.07  246.17  68.34   \n",
       "1  2022091200      64        2  51.13  28.57  0.71  0.36  0.07  245.41  71.21   \n",
       "2  2022091200      64        3  51.20  28.59  0.69  0.23  0.07  244.45  69.90   \n",
       "3  2022091200      64        4  51.26  28.62  0.67  0.22  0.07  244.45  67.98   \n",
       "4  2022091200      64        5  51.32  28.65  0.65  0.34  0.07  245.74  62.83   \n",
       "\n",
       "   playResult  \n",
       "0         2.0  \n",
       "1         2.0  \n",
       "2         2.0  \n",
       "3         2.0  \n",
       "4         2.0  "
      ]
     },
     "execution_count": 7,
     "metadata": {},
     "output_type": "execute_result"
    }
   ],
   "source": [
    "merged = tracking.merge(plays, on=['gameId','playId'], how='inner')\n",
    "merged.head()"
   ]
  },
  {
   "cell_type": "code",
   "execution_count": 8,
   "metadata": {
    "colab": {
     "base_uri": "https://localhost:8080/",
     "height": 272
    },
    "id": "OhP33wM9IaT2",
    "outputId": "ef082edf-6f1a-4533-c760-96afbe1de4ef"
   },
   "outputs": [
    {
     "data": {
      "text/plain": [
       "playResult\n",
       "1.0    2775249\n",
       "3.0    1002616\n",
       "2.0     427409\n",
       "4.0     423614\n",
       "5.0      42182\n",
       "0.0      21390\n",
       "Name: count, dtype: int64"
      ]
     },
     "execution_count": 8,
     "metadata": {},
     "output_type": "execute_result"
    }
   ],
   "source": [
    "merged.playResult.value_counts()\n",
    "# 1 = pass\n",
    "# 2 = right\n",
    "# 3 = middle\n",
    "# 4 = left\n",
    "# 5 = other"
   ]
  },
  {
   "cell_type": "code",
   "execution_count": 9,
   "metadata": {
    "id": "F-7p_HKTMaM0"
   },
   "outputs": [],
   "source": [
    "from sklearn.model_selection import train_test_split\n",
    "\n",
    "# Get unique playIds to split at the play level\n",
    "unique_play_ids = merged['playId'].unique()\n",
    "\n",
    "# Split playIds into training and testing sets\n",
    "train_play_ids, test_play_ids = train_test_split(unique_play_ids, test_size=0.2, random_state=42)\n",
    "\n",
    "# Create training and testing DataFrames by selecting rows based on playId\n",
    "train_df = merged[merged['playId'].isin(train_play_ids)]\n",
    "test_df = merged[merged['playId'].isin(test_play_ids)]"
   ]
  },
  {
   "cell_type": "code",
   "execution_count": 10,
   "metadata": {
    "id": "bYL4vq2sMji1"
   },
   "outputs": [],
   "source": [
    "\n",
    "X_train = train_df[['x', 'y', 's', 'a', 'dis', 'o', 'dir']]\n",
    "y_train = train_df['playResult']\n",
    "\n",
    "X_test = test_df[['x', 'y', 's', 'a', 'dis', 'o', 'dir']]\n",
    "y_test = test_df['playResult']\n"
   ]
  },
  {
   "cell_type": "code",
   "execution_count": 3,
   "metadata": {
    "colab": {
     "base_uri": "https://localhost:8080/"
    },
    "id": "8OXYvL26PU50",
    "outputId": "a3cd8b06-ea52-48e3-e50a-4342088475d4"
   },
   "outputs": [
    {
     "ename": "ModuleNotFoundError",
     "evalue": "No module named 'numpy'",
     "output_type": "error",
     "traceback": [
      "\u001b[1;31m---------------------------------------------------------------------------\u001b[0m",
      "\u001b[1;31mModuleNotFoundError\u001b[0m                       Traceback (most recent call last)",
      "Cell \u001b[1;32mIn[3], line 1\u001b[0m\n\u001b[1;32m----> 1\u001b[0m \u001b[38;5;28;01mimport\u001b[39;00m \u001b[38;5;21;01mnumpy\u001b[39;00m \u001b[38;5;28;01mas\u001b[39;00m \u001b[38;5;21;01mnp\u001b[39;00m\n\u001b[0;32m      2\u001b[0m \u001b[38;5;28;01mfrom\u001b[39;00m \u001b[38;5;21;01mtensorflow\u001b[39;00m\u001b[38;5;21;01m.\u001b[39;00m\u001b[38;5;21;01mkeras\u001b[39;00m\u001b[38;5;21;01m.\u001b[39;00m\u001b[38;5;21;01mmodels\u001b[39;00m \u001b[38;5;28;01mimport\u001b[39;00m Sequential\n\u001b[0;32m      3\u001b[0m \u001b[38;5;28;01mfrom\u001b[39;00m \u001b[38;5;21;01mtensorflow\u001b[39;00m\u001b[38;5;21;01m.\u001b[39;00m\u001b[38;5;21;01mkeras\u001b[39;00m\u001b[38;5;21;01m.\u001b[39;00m\u001b[38;5;21;01mlayers\u001b[39;00m \u001b[38;5;28;01mimport\u001b[39;00m Dense, Dropout\n",
      "\u001b[1;31mModuleNotFoundError\u001b[0m: No module named 'numpy'"
     ]
    }
   ],
   "source": [
    "import numpy as np\n",
    "from tensorflow.keras.models import Sequential\n",
    "from tensorflow.keras.layers import Dense, Dropout\n",
    "from tensorflow.keras.utils import to_categorical\n",
    "\n",
    "# Assuming X_train, X_test, y_train, and y_test are already prepared\n",
    "# Here, X_train and X_test are of shape (num_samples, 7) where 7 is the number of features\n",
    "\n",
    "# Define the neural network model\n",
    "model = Sequential([\n",
    "    Dense(64, activation='relu', input_shape=(7,)),  # 7 input features\n",
    "    Dropout(0.3),\n",
    "    Dense(32, activation='relu'),\n",
    "    Dropout(0.3),\n",
    "    Dense(4, activation='softmax')  # 4 classes, one for each play type\n",
    "])\n",
    "\n",
    "# Compile the model\n",
    "model.compile(optimizer='adam', loss='categorical_crossentropy', metrics=['accuracy'])\n",
    "\n",
    "# Convert target variables to one-hot encoding, handling unknown values\n",
    "# Replace values outside the range 1-4 with a default value (e.g., 1)\n",
    "y_train_filtered = y_train.copy()\n",
    "y_train_filtered[~y_train_filtered.isin([1, 2, 3, 4])] = 1 # Replace values not in [1, 2, 3, 4] with 1\n",
    "y_train_encoded = to_categorical(y_train_filtered - 1, num_classes=4) # Subtract 1 and one-hot encode\n",
    "\n",
    "\n",
    "y_test_filtered = y_test.copy()\n",
    "y_test_filtered[~y_test_filtered.isin([1, 2, 3, 4])] = 1 # Replace values not in [1, 2, 3, 4] with 1\n",
    "y_test_encoded = to_categorical(y_test_filtered - 1, num_classes=4) # Subtract 1 and one-hot encode\n",
    "\n",
    "\n",
    "# Train the model using the encoded target variables\n",
    "history = model.fit(X_train, y_train_encoded, epochs=5, batch_size=16, validation_data=(X_test, y_test_encoded))\n",
    "saved_model = model.save('model.h5')"
   ]
  },
  {
   "cell_type": "markdown",
   "metadata": {
    "id": "0tmSdM9XWhPp"
   },
   "source": [
    "\n",
    "\n",
    "---\n",
    "\n",
    "**Creating a 3-d model**\n",
    "\n",
    "\n",
    "\n",
    "---\n",
    "\n",
    "\n",
    "\n"
   ]
  },
  {
   "cell_type": "code",
   "execution_count": null,
   "metadata": {
    "id": "Dob5tVEMTNrA"
   },
   "outputs": [],
   "source": [
    "# Define columns to use as player data\n",
    "player_data_columns = ['x', 'y', 's', 'a', 'dis', 'o', 'dir']\n",
    "\n",
    "# Group data by 'gameId' and 'playId'\n",
    "grouped_data = merged.groupby(['gameId', 'playId'])\n",
    "\n",
    "# Create a 3D array structure to hold the data\n",
    "plays_data = []\n",
    "outcomes = []\n",
    "\n",
    "for (game_id, play_id), group in grouped_data:\n",
    "    # Convert player data to a NumPy array and append it to the plays_data list\n",
    "    play_array = group[player_data_columns].values\n",
    "    plays_data.append(play_array)\n",
    "\n",
    "    # Get the play outcome (assuming a single outcome per play) and append to outcomes list\n",
    "    outcome = group['playResult'].iloc[0]\n",
    "    outcomes.append(outcome)\n",
    "\n",
    "# Convert lists to arrays for further processing\n",
    "plays_data = np.array(plays_data, dtype=object)  # 3D array (plays, frames, features)\n",
    "outcomes = np.array(outcomes)  # 1D array (play outcomes)"
   ]
  }
 ],
 "metadata": {
  "colab": {
   "provenance": []
  },
  "kernelspec": {
   "display_name": "tf_env",
   "language": "python",
   "name": "python3"
  },
  "language_info": {
   "codemirror_mode": {
    "name": "ipython",
    "version": 3
   },
   "file_extension": ".py",
   "mimetype": "text/x-python",
   "name": "python",
   "nbconvert_exporter": "python",
   "pygments_lexer": "ipython3",
   "version": "3.8.20"
  }
 },
 "nbformat": 4,
 "nbformat_minor": 0
}
