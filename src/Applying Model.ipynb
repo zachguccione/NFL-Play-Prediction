{
 "cells": [
  {
   "cell_type": "code",
   "execution_count": 85,
   "metadata": {},
   "outputs": [],
   "source": [
    "# SELECT PLAY HERE:\n",
    "play = 4083\n",
    "game = 2022100906"
   ]
  },
  {
   "cell_type": "code",
   "execution_count": 86,
   "metadata": {},
   "outputs": [],
   "source": [
    "import pandas as pd\n",
    "import numpy as np"
   ]
  },
  {
   "cell_type": "code",
   "execution_count": 87,
   "metadata": {},
   "outputs": [],
   "source": [
    "plays = pd.read_csv('../data/tracking_week_5.csv')\n",
    "\n",
    "# Grab only items that are before and during the snap\n",
    "plays = plays[plays['frameType'].isin(['BEFORE_SNAP', 'BALL_SNAP'])]\n",
    "\n",
    "# drop rows that are about the football\n",
    "plays = plays[plays['displayName'] != 'football']"
   ]
  },
  {
   "cell_type": "code",
   "execution_count": 88,
   "metadata": {},
   "outputs": [],
   "source": [
    "# Find the player with the maximum 's' within each 'gameId' and 'playId'\n",
    "max_s_players = plays.loc[plays.groupby(['gameId', 'playId'])['s'].idxmax()]\n",
    "# Get the row before the maximum 's' within each 'gameId' and 'playId'\n",
    "previous_rows = plays.loc[plays.index.isin(max_s_players.index - 1)]\n",
    "# Combine the rows\n",
    "max_s_players = pd.concat([previous_rows, max_s_players]).sort_index()"
   ]
  },
  {
   "cell_type": "code",
   "execution_count": 89,
   "metadata": {},
   "outputs": [],
   "source": [
    "max_s_players['orientation_sin'] = np.sin(np.radians(max_s_players['o']))\n",
    "max_s_players['orientation_cos'] = np.cos(np.radians(max_s_players['o']))\n",
    "max_s_players['forward_velocity'] = max_s_players['s'] * max_s_players['orientation_cos']\n",
    "max_s_players['sideways_velocity'] = max_s_players['s'] * max_s_players['orientation_sin']"
   ]
  },
  {
   "cell_type": "code",
   "execution_count": 90,
   "metadata": {},
   "outputs": [],
   "source": [
    "def determine_player_direction(df):\n",
    "    # Ensure the dataframe is sorted by gameId, playId, and frameId\n",
    "    df = df.sort_values(by=['gameId', 'playId', 'frameId'])\n",
    "    \n",
    "    # Calculate the difference in y values between consecutive frames\n",
    "    df['y_diff'] = df.groupby(['gameId', 'playId'])['y'].diff()\n",
    "    \n",
    "    conditions = [\n",
    "        (df['o'] > 180) & (df['y_diff'] > 0),\n",
    "        (df['o'] > 180) & (df['y_diff'] < 0),\n",
    "        (df['o'] < 180) & (df['y_diff'] > 0),\n",
    "        (df['o'] < 180) & (df['y_diff'] < 0)\n",
    "    ]\n",
    "    \n",
    "    # Define the corresponding values for the new column\n",
    "    choices = ['right', 'left', 'left', 'right']\n",
    "    \n",
    "    # Create the new column based on the conditions\n",
    "    df['player_direction'] = np.select(conditions, choices, default=np.nan)\n",
    "    \n",
    "    return df\n",
    "\n",
    "# Apply the function to the max_s_players dataframe\n",
    "max_s_players = determine_player_direction(max_s_players)"
   ]
  },
  {
   "cell_type": "code",
   "execution_count": 91,
   "metadata": {},
   "outputs": [],
   "source": [
    "max_s_players['player_going_right'] = pd.get_dummies(max_s_players['player_direction'])['right']\n",
    "max_s_players.drop(columns=['player_direction'], inplace=True)"
   ]
  },
  {
   "cell_type": "code",
   "execution_count": 92,
   "metadata": {},
   "outputs": [],
   "source": [
    "# Select play here\n",
    "max_s_players = max_s_players[max_s_players['gameId'] == game]\n",
    "max_s_players = max_s_players[max_s_players['playId'] == play]"
   ]
  },
  {
   "cell_type": "code",
   "execution_count": 93,
   "metadata": {},
   "outputs": [],
   "source": [
    "df = max_s_players[['playId', 'gameId', 'frameId', 'x', 'y', 's', 'a', 'dis', 'o', 'dir', 'orientation_sin', 'orientation_cos', 'forward_velocity', 'sideways_velocity', 'y_diff', 'player_going_right']]"
   ]
  },
  {
   "cell_type": "code",
   "execution_count": null,
   "metadata": {},
   "outputs": [],
   "source": [
    "df = df.drop(columns=['playId', 'gameId'])\n",
    "df.dropna(inplace=True)"
   ]
  },
  {
   "cell_type": "code",
   "execution_count": 97,
   "metadata": {},
   "outputs": [
    {
     "data": {
      "text/html": [
       "<div>\n",
       "<style scoped>\n",
       "    .dataframe tbody tr th:only-of-type {\n",
       "        vertical-align: middle;\n",
       "    }\n",
       "\n",
       "    .dataframe tbody tr th {\n",
       "        vertical-align: top;\n",
       "    }\n",
       "\n",
       "    .dataframe thead th {\n",
       "        text-align: right;\n",
       "    }\n",
       "</style>\n",
       "<table border=\"1\" class=\"dataframe\">\n",
       "  <thead>\n",
       "    <tr style=\"text-align: right;\">\n",
       "      <th></th>\n",
       "      <th>frameId</th>\n",
       "      <th>x</th>\n",
       "      <th>y</th>\n",
       "      <th>s</th>\n",
       "      <th>a</th>\n",
       "      <th>dis</th>\n",
       "      <th>o</th>\n",
       "      <th>dir</th>\n",
       "      <th>orientation_sin</th>\n",
       "      <th>orientation_cos</th>\n",
       "      <th>forward_velocity</th>\n",
       "      <th>sideways_velocity</th>\n",
       "      <th>y_diff</th>\n",
       "      <th>player_going_right</th>\n",
       "    </tr>\n",
       "  </thead>\n",
       "  <tbody>\n",
       "    <tr>\n",
       "      <th>3944161</th>\n",
       "      <td>73</td>\n",
       "      <td>46.5</td>\n",
       "      <td>25.48</td>\n",
       "      <td>3.98</td>\n",
       "      <td>0.05</td>\n",
       "      <td>0.4</td>\n",
       "      <td>21.42</td>\n",
       "      <td>23.31</td>\n",
       "      <td>0.365202</td>\n",
       "      <td>0.930928</td>\n",
       "      <td>3.705095</td>\n",
       "      <td>1.453503</td>\n",
       "      <td>0.37</td>\n",
       "      <td>False</td>\n",
       "    </tr>\n",
       "  </tbody>\n",
       "</table>\n",
       "</div>"
      ],
      "text/plain": [
       "         frameId     x      y     s     a  dis      o    dir  orientation_sin  \\\n",
       "3944161       73  46.5  25.48  3.98  0.05  0.4  21.42  23.31         0.365202   \n",
       "\n",
       "         orientation_cos  forward_velocity  sideways_velocity  y_diff  \\\n",
       "3944161         0.930928          3.705095           1.453503    0.37   \n",
       "\n",
       "         player_going_right  \n",
       "3944161               False  "
      ]
     },
     "execution_count": 97,
     "metadata": {},
     "output_type": "execute_result"
    }
   ],
   "source": [
    "df.head()"
   ]
  },
  {
   "cell_type": "code",
   "execution_count": 95,
   "metadata": {},
   "outputs": [],
   "source": [
    "import joblib\n",
    "\n",
    "# Load the model\n",
    "rf_classifier = joblib.load('../models/rf_classifier.pkl')"
   ]
  },
  {
   "cell_type": "code",
   "execution_count": null,
   "metadata": {},
   "outputs": [
    {
     "name": "stdout",
     "output_type": "stream",
     "text": [
      "[0.]\n"
     ]
    }
   ],
   "source": [
    "X = df[['frameId', 'x', 'y', 's', 'a', 'dis', 'o', 'dir', 'orientation_sin', 'orientation_cos', 'forward_velocity', 'sideways_velocity', 'y_diff', 'player_going_right']]\n",
    "\n",
    "# Predict using the model\n",
    "predictions = rf_classifier.predict(X)\n",
    "\n",
    "# Print the result\n",
    "print(predictions)"
   ]
  }
 ],
 "metadata": {
  "kernelspec": {
   "display_name": "base",
   "language": "python",
   "name": "python3"
  },
  "language_info": {
   "codemirror_mode": {
    "name": "ipython",
    "version": 3
   },
   "file_extension": ".py",
   "mimetype": "text/x-python",
   "name": "python",
   "nbconvert_exporter": "python",
   "pygments_lexer": "ipython3",
   "version": "3.12.7"
  }
 },
 "nbformat": 4,
 "nbformat_minor": 2
}
