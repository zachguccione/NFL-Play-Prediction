{
 "cells": [
  {
   "cell_type": "markdown",
   "metadata": {},
   "source": [
    "Using fastest pre-snap speed to determine which way a play is going."
   ]
  },
  {
   "cell_type": "code",
   "execution_count": 2,
   "metadata": {},
   "outputs": [],
   "source": [
    "import pandas as pd\n",
    "import numpy as np"
   ]
  },
  {
   "cell_type": "code",
   "execution_count": 3,
   "metadata": {},
   "outputs": [],
   "source": [
    "plays1 = pd.read_csv('../data/tracking_week_1.csv')\n",
    "plays2 = pd.read_csv('../data/tracking_week_2.csv')\n",
    "plays3 = pd.read_csv('../data/tracking_week_3.csv')\n",
    "plays4 = pd.read_csv('../data/tracking_week_4.csv')\n",
    "\n",
    "plays = pd.concat([plays1, plays2, plays3, plays4])\n",
    "\n",
    "# Grab only items that are before and during the snap\n",
    "plays = plays[plays['frameType'].isin(['BEFORE_SNAP', 'BALL_SNAP'])]\n",
    "\n",
    "# drop rows that are about the football\n",
    "plays = plays[plays['displayName'] != 'football']"
   ]
  },
  {
   "cell_type": "code",
   "execution_count": 4,
   "metadata": {
    "vscode": {
     "languageId": "powershell"
    }
   },
   "outputs": [],
   "source": [
    "# Find the player with the maximum 's' within each 'gameId' and 'playId'\n",
    "max_s_players = plays.loc[plays.groupby(['gameId', 'playId'])['s'].idxmax()]\n",
    "# Get the row before the maximum 's' within each 'gameId' and 'playId'\n",
    "previous_rows = plays.loc[plays.index.isin(max_s_players.index - 1)]\n",
    "# Combine the rows\n",
    "max_s_players = pd.concat([previous_rows, max_s_players]).sort_index()"
   ]
  },
  {
   "cell_type": "code",
   "execution_count": 5,
   "metadata": {
    "vscode": {
     "languageId": "powershell"
    }
   },
   "outputs": [],
   "source": [
    "max_s_players['orientation_sin'] = np.sin(np.radians(max_s_players['o']))\n",
    "max_s_players['orientation_cos'] = np.cos(np.radians(max_s_players['o']))"
   ]
  },
  {
   "cell_type": "code",
   "execution_count": 6,
   "metadata": {
    "vscode": {
     "languageId": "powershell"
    }
   },
   "outputs": [],
   "source": [
    "max_s_players['forward_velocity'] = max_s_players['s'] * max_s_players['orientation_cos']\n",
    "max_s_players['sideways_velocity'] = max_s_players['s'] * max_s_players['orientation_sin']"
   ]
  },
  {
   "cell_type": "code",
   "execution_count": 7,
   "metadata": {
    "vscode": {
     "languageId": "powershell"
    }
   },
   "outputs": [],
   "source": [
    "def determine_player_direction(df):\n",
    "    # Ensure the dataframe is sorted by gameId, playId, and frameId\n",
    "    df = df.sort_values(by=['gameId', 'playId', 'frameId'])\n",
    "    \n",
    "    # Calculate the difference in y values between consecutive frames\n",
    "    df['y_diff'] = df.groupby(['gameId', 'playId'])['y'].diff()\n",
    "    \n",
    "    # Define the conditions for the new column\n",
    "    conditions = [\n",
    "        (df['o'] > 180) & (df['y_diff'] > 0),\n",
    "        (df['o'] > 180) & (df['y_diff'] < 0),\n",
    "        (df['o'] < 180) & (df['y_diff'] > 0),\n",
    "        (df['o'] < 180) & (df['y_diff'] < 0)\n",
    "    ]\n",
    "    \n",
    "    # Define the corresponding values for the new column\n",
    "    choices = ['right', 'left', 'left', 'right']\n",
    "    \n",
    "    # Create the new column based on the conditions\n",
    "    df['player_direction'] = np.select(conditions, choices, default=np.nan)\n",
    "    \n",
    "    return df\n",
    "\n",
    "# Apply the function to the max_s_players dataframe\n",
    "max_s_players = determine_player_direction(max_s_players)"
   ]
  },
  {
   "cell_type": "code",
   "execution_count": 8,
   "metadata": {
    "vscode": {
     "languageId": "ruby"
    }
   },
   "outputs": [],
   "source": [
    "max_s_players = max_s_players.dropna(subset=['y_diff'])"
   ]
  },
  {
   "cell_type": "code",
   "execution_count": 9,
   "metadata": {
    "vscode": {
     "languageId": "ruby"
    }
   },
   "outputs": [],
   "source": [
    "max_s_players['player_going_right'] = pd.get_dummies(max_s_players['player_direction'])['right']\n",
    "max_s_players.drop(columns=['player_direction'], inplace=True)"
   ]
  },
  {
   "cell_type": "code",
   "execution_count": 10,
   "metadata": {
    "vscode": {
     "languageId": "ruby"
    }
   },
   "outputs": [],
   "source": [
    "df = max_s_players[['playId', 'gameId', 'frameId', 'x', 'y', 's', 'a', 'dis', 'o', 'dir', 'orientation_sin', 'orientation_cos', 'forward_velocity', 'sideways_velocity', 'y_diff', 'player_going_right']]"
   ]
  },
  {
   "cell_type": "code",
   "execution_count": 11,
   "metadata": {
    "vscode": {
     "languageId": "ruby"
    }
   },
   "outputs": [],
   "source": [
    "df_join = pd.read_csv('../data/play_direction.csv')"
   ]
  },
  {
   "cell_type": "code",
   "execution_count": 12,
   "metadata": {},
   "outputs": [],
   "source": [
    "# Merge df and df_join on gameId and playId\n",
    "merged_df = pd.merge(df, df_join, how='inner', left_on=['gameId', 'playId'], right_on=['gameId', 'playId'])"
   ]
  },
  {
   "cell_type": "code",
   "execution_count": 13,
   "metadata": {
    "vscode": {
     "languageId": "ruby"
    }
   },
   "outputs": [],
   "source": [
    "# Define the conditions for the new column\n",
    "conditions = [\n",
    "    (merged_df['y_difference'] < 0) & (merged_df['playDirection'] == 'right'),\n",
    "    (merged_df['y_difference'] > 0) & (merged_df['playDirection'] == 'right'),\n",
    "    (merged_df['y_difference'] < 0) & (merged_df['playDirection'] == 'left'),\n",
    "    (merged_df['y_difference'] > 0) & (merged_df['playDirection'] == 'left')\n",
    "]\n",
    "\n",
    "# Define the corresponding values for the new column\n",
    "choices = [1, 0, 0, 1]\n",
    "\n",
    "# Create the new column based on the conditions\n",
    "merged_df['target_right'] = np.select(conditions, choices, default=np.nan)"
   ]
  },
  {
   "cell_type": "code",
   "execution_count": 14,
   "metadata": {
    "vscode": {
     "languageId": "ruby"
    }
   },
   "outputs": [],
   "source": [
    "merged_df.drop(columns=['playId', 'gameId', 'playDirection', 'y_difference'], inplace=True)"
   ]
  },
  {
   "cell_type": "code",
   "execution_count": 15,
   "metadata": {
    "vscode": {
     "languageId": "ruby"
    }
   },
   "outputs": [],
   "source": [
    "merged_df = merged_df.dropna()"
   ]
  },
  {
   "cell_type": "code",
   "execution_count": 16,
   "metadata": {
    "vscode": {
     "languageId": "ruby"
    }
   },
   "outputs": [
    {
     "data": {
      "text/plain": [
       "Index(['frameId', 'x', 'y', 's', 'a', 'dis', 'o', 'dir', 'orientation_sin',\n",
       "       'orientation_cos', 'forward_velocity', 'sideways_velocity', 'y_diff',\n",
       "       'player_going_right', 'target_right'],\n",
       "      dtype='object')"
      ]
     },
     "execution_count": 16,
     "metadata": {},
     "output_type": "execute_result"
    }
   ],
   "source": [
    "merged_df.columns"
   ]
  },
  {
   "cell_type": "code",
   "execution_count": 17,
   "metadata": {},
   "outputs": [
    {
     "name": "stdout",
     "output_type": "stream",
     "text": [
      "X_train shape: (6989, 14)\n",
      "X_test shape: (1748, 14)\n",
      "y_train shape: (6989,)\n",
      "y_test shape: (1748,)\n"
     ]
    }
   ],
   "source": [
    "from sklearn.model_selection import train_test_split\n",
    "\n",
    "# Define the features and target variable\n",
    "X = merged_df.drop(columns=['target_right'])\n",
    "y = merged_df['target_right']\n",
    "\n",
    "# Perform the train-test split\n",
    "X_train, X_test, y_train, y_test = train_test_split(X, y, test_size=0.2, random_state=42)\n",
    "\n",
    "# Display the shapes of the resulting datasets\n",
    "print(\"X_train shape:\", X_train.shape)\n",
    "print(\"X_test shape:\", X_test.shape)\n",
    "print(\"y_train shape:\", y_train.shape)\n",
    "print(\"y_test shape:\", y_test.shape)"
   ]
  },
  {
   "cell_type": "code",
   "execution_count": 18,
   "metadata": {},
   "outputs": [
    {
     "name": "stdout",
     "output_type": "stream",
     "text": [
      "Accuracy: 0.7448512585812357\n",
      "Classification Report:\n",
      "               precision    recall  f1-score   support\n",
      "\n",
      "         0.0       0.77      0.72      0.74       891\n",
      "         1.0       0.72      0.77      0.75       857\n",
      "\n",
      "    accuracy                           0.74      1748\n",
      "   macro avg       0.75      0.75      0.74      1748\n",
      "weighted avg       0.75      0.74      0.74      1748\n",
      "\n"
     ]
    }
   ],
   "source": [
    "from sklearn.ensemble import RandomForestClassifier\n",
    "from sklearn.metrics import accuracy_score, classification_report\n",
    "\n",
    "# Initialize the RandomForestClassifier\n",
    "rf_classifier = RandomForestClassifier(n_estimators=100, random_state=42)\n",
    "\n",
    "# Train the model\n",
    "rf_classifier.fit(X_train, y_train)\n",
    "\n",
    "# Make predictions on the test set\n",
    "y_pred = rf_classifier.predict(X_test)\n",
    "\n",
    "# Evaluate the model\n",
    "accuracy = accuracy_score(y_test, y_pred)\n",
    "print(\"Accuracy:\", accuracy)\n",
    "print(\"Classification Report:\\n\", classification_report(y_test, y_pred))"
   ]
  },
  {
   "cell_type": "code",
   "execution_count": 19,
   "metadata": {},
   "outputs": [
    {
     "name": "stdout",
     "output_type": "stream",
     "text": [
      "Epoch 1/50\n",
      "699/699 [==============================] - 1s 838us/step - loss: 1.3448 - accuracy: 0.4901\n",
      "Epoch 2/50\n",
      "699/699 [==============================] - 1s 818us/step - loss: 0.8881 - accuracy: 0.5127\n",
      "Epoch 3/50\n",
      "699/699 [==============================] - 1s 811us/step - loss: 0.8615 - accuracy: 0.5098\n",
      "Epoch 4/50\n",
      "699/699 [==============================] - 1s 820us/step - loss: 0.8055 - accuracy: 0.5048\n",
      "Epoch 5/50\n",
      "699/699 [==============================] - 1s 905us/step - loss: 0.7972 - accuracy: 0.5174\n",
      "Epoch 6/50\n",
      "699/699 [==============================] - 1s 909us/step - loss: 0.7799 - accuracy: 0.5220\n",
      "Epoch 7/50\n",
      "699/699 [==============================] - 1s 819us/step - loss: 0.7686 - accuracy: 0.5200\n",
      "Epoch 8/50\n",
      "699/699 [==============================] - 1s 811us/step - loss: 0.7355 - accuracy: 0.5245\n",
      "Epoch 9/50\n",
      "699/699 [==============================] - 1s 805us/step - loss: 0.7470 - accuracy: 0.5171\n",
      "Epoch 10/50\n",
      "699/699 [==============================] - 1s 802us/step - loss: 0.7293 - accuracy: 0.5097\n",
      "Epoch 11/50\n",
      "699/699 [==============================] - 1s 832us/step - loss: 0.7306 - accuracy: 0.5180\n",
      "Epoch 12/50\n",
      "699/699 [==============================] - 1s 803us/step - loss: 0.7124 - accuracy: 0.5283\n",
      "Epoch 13/50\n",
      "699/699 [==============================] - 1s 837us/step - loss: 0.7100 - accuracy: 0.5258\n",
      "Epoch 14/50\n",
      "699/699 [==============================] - 1s 878us/step - loss: 0.7057 - accuracy: 0.5253\n",
      "Epoch 15/50\n",
      "699/699 [==============================] - 1s 821us/step - loss: 0.7017 - accuracy: 0.5255\n",
      "Epoch 16/50\n",
      "699/699 [==============================] - 1s 814us/step - loss: 0.6999 - accuracy: 0.5268\n",
      "Epoch 17/50\n",
      "699/699 [==============================] - 1s 789us/step - loss: 0.6955 - accuracy: 0.5277\n",
      "Epoch 18/50\n",
      "699/699 [==============================] - 1s 774us/step - loss: 0.6948 - accuracy: 0.5337\n",
      "Epoch 19/50\n",
      "699/699 [==============================] - 1s 788us/step - loss: 0.6902 - accuracy: 0.5185\n",
      "Epoch 20/50\n",
      "699/699 [==============================] - 1s 787us/step - loss: 0.6893 - accuracy: 0.5241\n",
      "Epoch 21/50\n",
      "699/699 [==============================] - 1s 821us/step - loss: 0.6872 - accuracy: 0.5228\n",
      "Epoch 22/50\n",
      "699/699 [==============================] - 1s 926us/step - loss: 0.6854 - accuracy: 0.5338\n",
      "Epoch 23/50\n",
      "699/699 [==============================] - 1s 946us/step - loss: 0.6866 - accuracy: 0.5331\n",
      "Epoch 24/50\n",
      "699/699 [==============================] - 1s 1ms/step - loss: 0.6873 - accuracy: 0.5343\n",
      "Epoch 25/50\n",
      "699/699 [==============================] - 1s 936us/step - loss: 0.6851 - accuracy: 0.5315\n",
      "Epoch 26/50\n",
      "699/699 [==============================] - 1s 850us/step - loss: 0.6842 - accuracy: 0.5360\n",
      "Epoch 27/50\n",
      "699/699 [==============================] - 1s 833us/step - loss: 0.6861 - accuracy: 0.5370\n",
      "Epoch 28/50\n",
      "699/699 [==============================] - 1s 842us/step - loss: 0.6836 - accuracy: 0.5356\n",
      "Epoch 29/50\n",
      "699/699 [==============================] - 1s 864us/step - loss: 0.6842 - accuracy: 0.5347\n",
      "Epoch 30/50\n",
      "699/699 [==============================] - 1s 936us/step - loss: 0.6853 - accuracy: 0.5374\n",
      "Epoch 31/50\n",
      "699/699 [==============================] - 1s 825us/step - loss: 0.6848 - accuracy: 0.5354\n",
      "Epoch 32/50\n",
      "699/699 [==============================] - 1s 815us/step - loss: 0.6823 - accuracy: 0.5357\n",
      "Epoch 33/50\n",
      "699/699 [==============================] - 1s 819us/step - loss: 0.6833 - accuracy: 0.5397\n",
      "Epoch 34/50\n",
      "699/699 [==============================] - 1s 813us/step - loss: 0.6827 - accuracy: 0.5358\n",
      "Epoch 35/50\n",
      "699/699 [==============================] - 1s 855us/step - loss: 0.6835 - accuracy: 0.5381\n",
      "Epoch 36/50\n",
      "699/699 [==============================] - 1s 821us/step - loss: 0.6796 - accuracy: 0.5398\n",
      "Epoch 37/50\n",
      "699/699 [==============================] - 1s 826us/step - loss: 0.6833 - accuracy: 0.5324\n",
      "Epoch 38/50\n",
      "699/699 [==============================] - 1s 807us/step - loss: 0.6807 - accuracy: 0.5390\n",
      "Epoch 39/50\n",
      "699/699 [==============================] - 1s 977us/step - loss: 0.6802 - accuracy: 0.5386\n",
      "Epoch 40/50\n",
      "699/699 [==============================] - 1s 835us/step - loss: 0.6802 - accuracy: 0.5417\n",
      "Epoch 41/50\n",
      "699/699 [==============================] - 1s 811us/step - loss: 0.6768 - accuracy: 0.5479\n",
      "Epoch 42/50\n",
      "699/699 [==============================] - 1s 818us/step - loss: 0.6808 - accuracy: 0.5394\n",
      "Epoch 43/50\n",
      "699/699 [==============================] - 1s 807us/step - loss: 0.6785 - accuracy: 0.5401\n",
      "Epoch 44/50\n",
      "699/699 [==============================] - 1s 821us/step - loss: 0.6776 - accuracy: 0.5400\n",
      "Epoch 45/50\n",
      "699/699 [==============================] - 1s 831us/step - loss: 0.6775 - accuracy: 0.5446\n",
      "Epoch 46/50\n",
      "699/699 [==============================] - 1s 826us/step - loss: 0.6775 - accuracy: 0.5421\n",
      "Epoch 47/50\n",
      "699/699 [==============================] - 1s 923us/step - loss: 0.6758 - accuracy: 0.5427\n",
      "Epoch 48/50\n",
      "699/699 [==============================] - 1s 916us/step - loss: 0.6748 - accuracy: 0.5456\n",
      "Epoch 49/50\n",
      "699/699 [==============================] - 1s 855us/step - loss: 0.6760 - accuracy: 0.5450\n",
      "Epoch 50/50\n",
      "699/699 [==============================] - 1s 888us/step - loss: 0.6760 - accuracy: 0.5487\n",
      "55/55 [==============================] - 0s 635us/step\n",
      "Accuracy: 0.4977116704805492\n",
      "Classification Report:\n",
      "               precision    recall  f1-score   support\n",
      "\n",
      "         0.0       0.53      0.12      0.20       891\n",
      "         1.0       0.49      0.89      0.63       857\n",
      "\n",
      "    accuracy                           0.50      1748\n",
      "   macro avg       0.51      0.51      0.42      1748\n",
      "weighted avg       0.51      0.50      0.41      1748\n",
      "\n"
     ]
    }
   ],
   "source": [
    "from keras.models import Sequential\n",
    "from keras.layers import Dense\n",
    "from keras.utils import to_categorical\n",
    "\n",
    "# Convert target variables to categorical format\n",
    "y_train_categorical = to_categorical(y_train)\n",
    "y_test_categorical = to_categorical(y_test)\n",
    "\n",
    "# Convert input data to float\n",
    "X_train = X_train.astype(float)\n",
    "X_test = X_test.astype(float)\n",
    "\n",
    "# Define the neural network model\n",
    "model = Sequential()\n",
    "model.add(Dense(64, input_dim=X_train.shape[1], activation='relu'))\n",
    "model.add(Dense(32, activation='relu'))\n",
    "model.add(Dense(2, activation='softmax'))\n",
    "\n",
    "# Compile the model\n",
    "model.compile(loss='categorical_crossentropy', optimizer='adam', metrics=['accuracy'])\n",
    "\n",
    "# Train the model\n",
    "model.fit(X_train, y_train_categorical, epochs=50, batch_size=10, verbose=1)\n",
    "\n",
    "# Make predictions on the test set\n",
    "y_pred_categorical = model.predict(X_test)\n",
    "y_pred = y_pred_categorical.argmax(axis=1)\n",
    "\n",
    "# Evaluate the model\n",
    "accuracy = accuracy_score(y_test, y_pred)\n",
    "print(\"Accuracy:\", accuracy)\n",
    "print(\"Classification Report:\\n\", classification_report(y_test, y_pred))"
   ]
  },
  {
   "cell_type": "code",
   "execution_count": 20,
   "metadata": {},
   "outputs": [
    {
     "data": {
      "text/plain": [
       "['../models/rf_classifier.pkl']"
      ]
     },
     "execution_count": 20,
     "metadata": {},
     "output_type": "execute_result"
    }
   ],
   "source": [
    "import joblib\n",
    "\n",
    "# Export the trained model to the specified directory\n",
    "joblib.dump(rf_classifier, '../models/rf_classifier.pkl')"
   ]
  },
  {
   "cell_type": "code",
   "execution_count": 22,
   "metadata": {},
   "outputs": [
    {
     "data": {
      "image/png": "[encoded data removed]",
      "text/plain": [
       "<Figure size 1000x600 with 1 Axes>"
      ]
     },
     "metadata": {},
     "output_type": "display_data"
    }
   ],
   "source": [
    "import matplotlib.pyplot as plt\n",
    "feature_importances = rf_classifier.feature_importances_\n",
    "\n",
    "# Create a DataFrame for visualization\n",
    "importance_df = pd.DataFrame({\n",
    "    'Feature': X.columns,\n",
    "    'Importance': feature_importances\n",
    "}).sort_values(by='Importance', ascending=False)\n",
    "\n",
    "# Plot feature importance\n",
    "plt.figure(figsize=(10, 6))\n",
    "plt.bar(importance_df['Feature'], importance_df['Importance'])\n",
    "plt.xticks(rotation=45, ha='right')\n",
    "plt.title('Feature Importance')\n",
    "plt.xlabel('Features')\n",
    "plt.ylabel('Importance')\n",
    "plt.tight_layout()\n",
    "plt.show()"
   ]
  }
 ],
 "metadata": {
  "kernelspec": {
   "display_name": "torch",
   "language": "python",
   "name": "python3"
  },
  "language_info": {
   "codemirror_mode": {
    "name": "ipython",
    "version": 3
   },
   "file_extension": ".py",
   "mimetype": "text/x-python",
   "name": "python",
   "nbconvert_exporter": "python",
   "pygments_lexer": "ipython3",
   "version": "3.9.18"
  }
 },
 "nbformat": 4,
 "nbformat_minor": 2
}
