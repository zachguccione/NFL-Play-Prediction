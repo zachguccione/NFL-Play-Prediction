{
 "cells": [
  {
   "cell_type": "markdown",
   "metadata": {},
   "source": [
    "Creating a visualization that goes frame by frame through an NFL play"
   ]
  },
  {
   "cell_type": "code",
   "execution_count": 25,
   "metadata": {},
   "outputs": [],
   "source": [
    "# SELECT PLAY HERE\n",
    "play = 4083\n",
    "game = 2022100906"
   ]
  },
  {
   "cell_type": "code",
   "execution_count": 21,
   "metadata": {},
   "outputs": [],
   "source": [
    "import pandas as pd\n",
    "import numpy as np\n",
    "import matplotlib.pyplot as plt"
   ]
  },
  {
   "cell_type": "code",
   "execution_count": 22,
   "metadata": {},
   "outputs": [],
   "source": [
    "tracking_week_1 = pd.read_csv('../data/tracking_week_5.csv')\n",
    "plays = pd.read_csv('../data/plays.csv')"
   ]
  },
  {
   "cell_type": "code",
   "execution_count": 23,
   "metadata": {},
   "outputs": [],
   "source": [
    "df = pd.merge(tracking_week_1, plays, on=['gameId', 'playId'])"
   ]
  },
  {
   "cell_type": "code",
   "execution_count": 26,
   "metadata": {},
   "outputs": [],
   "source": [
    "df = df[df['gameId'] == game]\n",
    "df = df[df['playId'] == play]"
   ]
  },
  {
   "cell_type": "code",
   "execution_count": 27,
   "metadata": {},
   "outputs": [],
   "source": [
    "df = df.sort_values(by='frameId')"
   ]
  },
  {
   "cell_type": "code",
   "execution_count": 28,
   "metadata": {},
   "outputs": [],
   "source": [
    "df = df[['displayName', 'frameId', 'jerseyNumber', 'club', 'x', 'y', 'possessionTeam', 'defensiveTeam', 'gameClock', 'preSnapHomeScore', 'preSnapVisitorScore', ]]"
   ]
  },
  {
   "cell_type": "code",
   "execution_count": 29,
   "metadata": {},
   "outputs": [],
   "source": [
    "import matplotlib\n",
    "matplotlib.use('Agg')\n",
    "\n",
    "import matplotlib.pyplot as plt\n",
    "import matplotlib.animation as animation\n",
    "import numpy as np\n",
    "import pandas as pd\n",
    "\n",
    "class NFLPlayVisualization:\n",
    "    def __init__(self, dataframe):\n",
    "        self.df = dataframe\n",
    "        \n",
    "        # Field dimensions\n",
    "        self.FIELD_LENGTH = 120  # yards\n",
    "        self.FIELD_WIDTH = 53.3  # yards\n",
    "        \n",
    "        # Setup the figure and axis\n",
    "        plt.close('all')  # Close any existing plots\n",
    "        self.fig, self.ax = plt.subplots(figsize=(12, 6))\n",
    "        \n",
    "        # Prepare the color mapping\n",
    "        self.color_map = {\n",
    "            'ARI':\"red\",\n",
    "            'ATL':\"red\",\n",
    "            'BAL':\"purple\",\n",
    "            'BUF':\"blue\",\n",
    "            'CAR':\"blue\",\n",
    "            'CHI':\"orange\",\n",
    "            'CIN':\"orange\",\n",
    "            'CLE':\"orange\",\n",
    "            'DAL':\"blue\",\n",
    "            'DEN':\"orange\",\n",
    "            'DET':\"blue\",\n",
    "            'GB' :\"green\",\n",
    "            'HOU':\"red\",\n",
    "            'IND':\"blue\",\n",
    "            'JAX':\"brown\",\n",
    "            'KC' :\"red\",\n",
    "            'LA' :\"blue\",\n",
    "            'LAC':\"yellow\",\n",
    "            'LV' :\"black\",\n",
    "            'MIA':\"teal\",\n",
    "            'MIN':\"purple\",\n",
    "            'NE' :\"silver\",\n",
    "            'NO' :\"gold\",\n",
    "            'NYG':\"blue\",\n",
    "            'NYJ':\"green\",\n",
    "            'PHI':\"green\",\n",
    "            'PIT':\"yellow\",\n",
    "            'SEA':\"blue\",\n",
    "            'SF' :\"red\",\n",
    "            'TB' :\"red\",\n",
    "            'TEN':\"blue\",\n",
    "            'WAS':\"red\",\n",
    "            'football':\"brown\"\n",
    "        }\n",
    "        \n",
    "        # Setup the field\n",
    "        self._setup_field()\n",
    "        \n",
    "    def _setup_field(self):\n",
    "        \"\"\"Setup the football field background\"\"\"\n",
    "        self.ax.clear()\n",
    "        self.ax.set_xlim(0, self.FIELD_LENGTH)\n",
    "        self.ax.set_ylim(0, self.FIELD_WIDTH)\n",
    "        \n",
    "        # Field color\n",
    "        self.ax.set_facecolor('green')\n",
    "        \n",
    "        # Field lines\n",
    "        self.ax.axhline(0, color='white', linewidth=2)\n",
    "        self.ax.axhline(self.FIELD_WIDTH, color='white', linewidth=2)\n",
    "        \n",
    "        # Yard lines\n",
    "        for x in range(0, self.FIELD_LENGTH+1, 10):\n",
    "            self.ax.axvline(x, color='white', linestyle='--', alpha=0.5)\n",
    "        \n",
    "        self.ax.set_title('NFL Play Visualization')\n",
    "        self.ax.set_xlabel('Yards')\n",
    "        self.ax.set_ylabel(' ')\n",
    "        \n",
    "    def animate(self, frame):\n",
    "        \"\"\"\n",
    "        Animation function for matplotlib\n",
    "        \"\"\"\n",
    "        # Clear and reset field\n",
    "        self._setup_field()\n",
    "        \n",
    "        # Get data for current frame\n",
    "        frame_data = self.df[self.df['frameId'] == self.unique_frames[frame]]\n",
    "        \n",
    "        # Plot players\n",
    "        for _, player in frame_data.iterrows():\n",
    "            color = self.color_map.get(player['club'], 'red')\n",
    "            \n",
    "            self.ax.scatter(\n",
    "                player['x'], \n",
    "                player['y'], \n",
    "                color=color, \n",
    "                s=200,  # Size of the dot\n",
    "                alpha=0.7,\n",
    "                edgecolors='black'\n",
    "            )\n",
    "            \n",
    "            # Add jersey number\n",
    "            self.ax.text(\n",
    "                player['x'], \n",
    "                player['y'], \n",
    "                str(int(player['jerseyNumber'])) if not pd.isna(player['jerseyNumber']) else '', \n",
    "                color='white', \n",
    "                ha='center', \n",
    "                va='center',\n",
    "                fontweight='bold'\n",
    "            )\n",
    "        \n",
    "        # Update title with current frame and game clock\n",
    "        game_clock = frame_data['gameClock'].iloc[0] if not frame_data.empty else ''\n",
    "        possessionTeam = frame_data['possessionTeam'].iloc[0] if not frame_data.empty else ''\n",
    "        defensiveTeam = frame_data['defensiveTeam'].iloc[0] if not frame_data.empty else ''\n",
    "        self.ax.set_title(f'NFL Play Visualization - Frame {frame+1} | Clock: {game_clock} | {possessionTeam} vs {defensiveTeam}')\n",
    "        \n",
    "        return self.ax\n",
    "    \n",
    "    def visualize(self, save_path='../gif/nfl_play.gif', interval=150):\n",
    "        \"\"\"\n",
    "        Create the animation\n",
    "        \"\"\"\n",
    "        # Get unique frames\n",
    "        self.unique_frames = sorted(self.df['frameId'].unique())\n",
    "        \n",
    "        # Create animation\n",
    "        anim = animation.FuncAnimation(\n",
    "            self.fig, \n",
    "            self.animate, \n",
    "            frames=len(self.unique_frames),\n",
    "            interval=interval,\n",
    "            repeat=False\n",
    "        )\n",
    "        \n",
    "        # Save the animation\n",
    "        anim.save(save_path, writer='pillow', fps=10)\n",
    "        \n",
    "        # Close the plot to free up memory\n",
    "        plt.close(self.fig)\n",
    "        \n",
    "        return anim"
   ]
  },
  {
   "cell_type": "code",
   "execution_count": 30,
   "metadata": {},
   "outputs": [],
   "source": [
    "if not df.empty:\n",
    "\tviz = NFLPlayVisualization(df)\n",
    "\tviz.visualize()\n",
    "else:\n",
    "\tprint(\"The dataframe is empty. Please provide a dataframe with data.\")"
   ]
  }
 ],
 "metadata": {
  "kernelspec": {
   "display_name": "base",
   "language": "python",
   "name": "python3"
  },
  "language_info": {
   "codemirror_mode": {
    "name": "ipython",
    "version": 3
   },
   "file_extension": ".py",
   "mimetype": "text/x-python",
   "name": "python",
   "nbconvert_exporter": "python",
   "pygments_lexer": "ipython3",
   "version": "3.12.7"
  }
 },
 "nbformat": 4,
 "nbformat_minor": 4
}
